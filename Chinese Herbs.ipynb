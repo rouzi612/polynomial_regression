{
 "cells": [
  {
   "attachments": {},
   "cell_type": "markdown",
   "metadata": {},
   "source": [
    "# Chinese Herbs Analysis"
   ]
  },
  {
   "cell_type": "code",
   "execution_count": 159,
   "metadata": {},
   "outputs": [],
   "source": [
    "import pandas as pd\n",
    "import os\n",
    "import matplotlib.pyplot as plt\n",
    "import numpy as np\n",
    "import random\n",
    "import scipy.stats as stats\n",
    "import pingouin as pg\n",
    "import math\n",
    "\n",
    "import pandas as pd\n",
    "from sklearn.preprocessing import PolynomialFeatures\n",
    "from sklearn.linear_model import LinearRegression\n",
    "from sklearn.model_selection import train_test_split\n",
    "from sklearn.metrics import r2_score, mean_squared_error\n",
    "os.chdir(\"/Users/rosiebai/Desktop\")"
   ]
  },
  {
   "cell_type": "code",
   "execution_count": 160,
   "metadata": {},
   "outputs": [],
   "source": [
    "data = pd.read_excel('Chinese Herbs.xlsx')"
   ]
  },
  {
   "cell_type": "code",
   "execution_count": 161,
   "metadata": {},
   "outputs": [
    {
     "data": {
      "text/html": [
       "<div>\n",
       "<style scoped>\n",
       "    .dataframe tbody tr th:only-of-type {\n",
       "        vertical-align: middle;\n",
       "    }\n",
       "\n",
       "    .dataframe tbody tr th {\n",
       "        vertical-align: top;\n",
       "    }\n",
       "\n",
       "    .dataframe thead th {\n",
       "        text-align: right;\n",
       "    }\n",
       "</style>\n",
       "<table border=\"1\" class=\"dataframe\">\n",
       "  <thead>\n",
       "    <tr style=\"text-align: right;\">\n",
       "      <th></th>\n",
       "      <th>HERBS</th>\n",
       "      <th>X1</th>\n",
       "      <th>X2</th>\n",
       "      <th>X3</th>\n",
       "      <th>Y</th>\n",
       "    </tr>\n",
       "  </thead>\n",
       "  <tbody>\n",
       "    <tr>\n",
       "      <th>0</th>\n",
       "      <td>白花蛇舌草</td>\n",
       "      <td>0.293</td>\n",
       "      <td>D</td>\n",
       "      <td>0.14</td>\n",
       "      <td>170.07</td>\n",
       "    </tr>\n",
       "    <tr>\n",
       "      <th>1</th>\n",
       "      <td>败酱草</td>\n",
       "      <td>0.352</td>\n",
       "      <td>D</td>\n",
       "      <td>0.14</td>\n",
       "      <td>154.87</td>\n",
       "    </tr>\n",
       "    <tr>\n",
       "      <th>2</th>\n",
       "      <td>黄精</td>\n",
       "      <td>1.283</td>\n",
       "      <td>K</td>\n",
       "      <td>0.18</td>\n",
       "      <td>198.45</td>\n",
       "    </tr>\n",
       "    <tr>\n",
       "      <th>3</th>\n",
       "      <td>薄荷</td>\n",
       "      <td>0.315</td>\n",
       "      <td>D</td>\n",
       "      <td>0.15</td>\n",
       "      <td>199.68</td>\n",
       "    </tr>\n",
       "    <tr>\n",
       "      <th>4</th>\n",
       "      <td>莲房</td>\n",
       "      <td>0.188</td>\n",
       "      <td>D</td>\n",
       "      <td>0.14</td>\n",
       "      <td>206.07</td>\n",
       "    </tr>\n",
       "    <tr>\n",
       "      <th>5</th>\n",
       "      <td>干姜</td>\n",
       "      <td>1.460</td>\n",
       "      <td>K</td>\n",
       "      <td>0.19</td>\n",
       "      <td>204.33</td>\n",
       "    </tr>\n",
       "    <tr>\n",
       "      <th>6</th>\n",
       "      <td>骨碎补</td>\n",
       "      <td>0.289</td>\n",
       "      <td>D</td>\n",
       "      <td>0.15</td>\n",
       "      <td>215.64</td>\n",
       "    </tr>\n",
       "    <tr>\n",
       "      <th>7</th>\n",
       "      <td>广藿香</td>\n",
       "      <td>0.289</td>\n",
       "      <td>D</td>\n",
       "      <td>0.14</td>\n",
       "      <td>171.21</td>\n",
       "    </tr>\n",
       "    <tr>\n",
       "      <th>8</th>\n",
       "      <td>荷叶</td>\n",
       "      <td>0.232</td>\n",
       "      <td>S</td>\n",
       "      <td>0.15</td>\n",
       "      <td>261.42</td>\n",
       "    </tr>\n",
       "    <tr>\n",
       "      <th>9</th>\n",
       "      <td>红花</td>\n",
       "      <td>0.252</td>\n",
       "      <td>D</td>\n",
       "      <td>0.14</td>\n",
       "      <td>182.52</td>\n",
       "    </tr>\n",
       "    <tr>\n",
       "      <th>10</th>\n",
       "      <td>侧柏叶</td>\n",
       "      <td>0.466</td>\n",
       "      <td>S</td>\n",
       "      <td>0.11</td>\n",
       "      <td>113.50</td>\n",
       "    </tr>\n",
       "    <tr>\n",
       "      <th>11</th>\n",
       "      <td>车前子</td>\n",
       "      <td>0.668</td>\n",
       "      <td>L</td>\n",
       "      <td>0.12</td>\n",
       "      <td>116.70</td>\n",
       "    </tr>\n",
       "    <tr>\n",
       "      <th>12</th>\n",
       "      <td>丁香</td>\n",
       "      <td>0.752</td>\n",
       "      <td>L</td>\n",
       "      <td>0.12</td>\n",
       "      <td>115.74</td>\n",
       "    </tr>\n",
       "    <tr>\n",
       "      <th>13</th>\n",
       "      <td>大青叶</td>\n",
       "      <td>0.478</td>\n",
       "      <td>S</td>\n",
       "      <td>0.13</td>\n",
       "      <td>124.24</td>\n",
       "    </tr>\n",
       "    <tr>\n",
       "      <th>14</th>\n",
       "      <td>豆寇</td>\n",
       "      <td>0.246</td>\n",
       "      <td>L</td>\n",
       "      <td>0.12</td>\n",
       "      <td>121.79</td>\n",
       "    </tr>\n",
       "    <tr>\n",
       "      <th>15</th>\n",
       "      <td>覆盆子</td>\n",
       "      <td>0.453</td>\n",
       "      <td>L</td>\n",
       "      <td>0.14</td>\n",
       "      <td>134.32</td>\n",
       "    </tr>\n",
       "    <tr>\n",
       "      <th>16</th>\n",
       "      <td>淡竹叶</td>\n",
       "      <td>0.294</td>\n",
       "      <td>S</td>\n",
       "      <td>0.13</td>\n",
       "      <td>141.43</td>\n",
       "    </tr>\n",
       "    <tr>\n",
       "      <th>17</th>\n",
       "      <td>炒麦芽</td>\n",
       "      <td>0.667</td>\n",
       "      <td>L</td>\n",
       "      <td>0.12</td>\n",
       "      <td>116.71</td>\n",
       "    </tr>\n",
       "    <tr>\n",
       "      <th>18</th>\n",
       "      <td>地肤子</td>\n",
       "      <td>0.414</td>\n",
       "      <td>L</td>\n",
       "      <td>0.14</td>\n",
       "      <td>141.57</td>\n",
       "    </tr>\n",
       "    <tr>\n",
       "      <th>19</th>\n",
       "      <td>番泻叶</td>\n",
       "      <td>0.466</td>\n",
       "      <td>S</td>\n",
       "      <td>0.10</td>\n",
       "      <td>108.43</td>\n",
       "    </tr>\n",
       "  </tbody>\n",
       "</table>\n",
       "</div>"
      ],
      "text/plain": [
       "    HERBS     X1 X2    X3       Y\n",
       "0   白花蛇舌草  0.293  D  0.14  170.07\n",
       "1     败酱草  0.352  D  0.14  154.87\n",
       "2      黄精  1.283  K  0.18  198.45\n",
       "3      薄荷  0.315  D  0.15  199.68\n",
       "4      莲房  0.188  D  0.14  206.07\n",
       "5      干姜  1.460  K  0.19  204.33\n",
       "6     骨碎补  0.289  D  0.15  215.64\n",
       "7     广藿香  0.289  D  0.14  171.21\n",
       "8      荷叶  0.232  S  0.15  261.42\n",
       "9      红花  0.252  D  0.14  182.52\n",
       "10    侧柏叶  0.466  S  0.11  113.50\n",
       "11    车前子  0.668  L  0.12  116.70\n",
       "12     丁香  0.752  L  0.12  115.74\n",
       "13    大青叶  0.478  S  0.13  124.24\n",
       "14     豆寇  0.246  L  0.12  121.79\n",
       "15    覆盆子  0.453  L  0.14  134.32\n",
       "16    淡竹叶  0.294  S  0.13  141.43\n",
       "17    炒麦芽  0.667  L  0.12  116.71\n",
       "18    地肤子  0.414  L  0.14  141.57\n",
       "19    番泻叶  0.466  S  0.10  108.43"
      ]
     },
     "execution_count": 161,
     "metadata": {},
     "output_type": "execute_result"
    }
   ],
   "source": [
    "data.head(20)"
   ]
  },
  {
   "cell_type": "code",
   "execution_count": 162,
   "metadata": {},
   "outputs": [
    {
     "data": {
      "image/png": "[encoded data removed]",
      "text/plain": [
       "<Figure size 640x480 with 1 Axes>"
      ]
     },
     "metadata": {},
     "output_type": "display_data"
    }
   ],
   "source": [
    "# Create a histogram\n",
    "plt.hist(data.X1, bins='auto', density=True, alpha=0.7)\n",
    "plt.show()"
   ]
  },
  {
   "cell_type": "code",
   "execution_count": 163,
   "metadata": {},
   "outputs": [
    {
     "data": {
      "image/png": "[encoded data removed]",
      "text/plain": [
       "<Figure size 640x480 with 1 Axes>"
      ]
     },
     "metadata": {},
     "output_type": "display_data"
    }
   ],
   "source": [
    "# Create a histogram\n",
    "plt.hist(data.X3, bins='auto', density=True, alpha=0.7)\n",
    "\n",
    "plt.show()"
   ]
  },
  {
   "cell_type": "code",
   "execution_count": 164,
   "metadata": {},
   "outputs": [
    {
     "data": {
      "image/png": "[encoded data removed]",
      "text/plain": [
       "<Figure size 640x480 with 1 Axes>"
      ]
     },
     "metadata": {},
     "output_type": "display_data"
    }
   ],
   "source": [
    "\n",
    "import matplotlib.pyplot as plt\n",
    "\n",
    "# Count the occurrences of each category in the 'Category' column\n",
    "category_counts = data.X2.value_counts()\n",
    "# Extract the categories and their counts\n",
    "categories = category_counts.index\n",
    "counts = category_counts.values\n",
    "\n",
    "# Create a bar plot\n",
    "#plt.figure(figsize=(10, 8))  # Set the figure size\n",
    "plt.bar(categories, counts)\n",
    "\n",
    "# Set plot labels and title\n",
    "plt.xlabel('Categories')\n",
    "plt.ylabel('Count')\n",
    "plt.title('Bar Plot of Categorical Variable')\n",
    "\n",
    "# Rotate x-axis labels if they are too long\n",
    "plt.xticks(rotation=0, ha='right')\n",
    "\n",
    "# Show the plot\n",
    "plt.show()\n"
   ]
  },
  {
   "cell_type": "code",
   "execution_count": 165,
   "metadata": {},
   "outputs": [
    {
     "data": {
      "image/png": "[encoded data removed]",
      "text/plain": [
       "<Figure size 640x480 with 1 Axes>"
      ]
     },
     "metadata": {},
     "output_type": "display_data"
    }
   ],
   "source": [
    "# Create a histogram\n",
    "plt.hist(data.Y, bins='auto', density=True, alpha=0.7)\n",
    "\n",
    "plt.show()"
   ]
  },
  {
   "attachments": {},
   "cell_type": "markdown",
   "metadata": {},
   "source": [
    "## Scatter Plot"
   ]
  },
  {
   "cell_type": "code",
   "execution_count": 166,
   "metadata": {},
   "outputs": [
    {
     "data": {
      "image/png": "[encoded data removed]",
      "text/plain": [
       "<Figure size 640x480 with 1 Axes>"
      ]
     },
     "metadata": {},
     "output_type": "display_data"
    },
    {
     "data": {
      "image/png": "[encoded data removed]",
      "text/plain": [
       "<Figure size 640x480 with 1 Axes>"
      ]
     },
     "metadata": {},
     "output_type": "display_data"
    }
   ],
   "source": [
    "import matplotlib.pyplot as plt\n",
    "\n",
    "# List of numeric column names (exclude the target variable)\n",
    "numeric_columns = [col for col in data.columns if pd.api.types.is_numeric_dtype(data[col]) and col != 'Y']\n",
    "\n",
    "# Define the target variable\n",
    "target_variable = 'Y'\n",
    "\n",
    "# Loop through the numeric columns and create scatter plots\n",
    "for col in numeric_columns:\n",
    "    plt.scatter(data[col], data[target_variable])\n",
    "    plt.title(f'Scatter Plot of {col} vs. {target_variable}')\n",
    "    plt.xlabel(col)\n",
    "    plt.ylabel(target_variable)\n",
    "    plt.show()\n"
   ]
  },
  {
   "attachments": {},
   "cell_type": "markdown",
   "metadata": {},
   "source": [
    "## Polynomial Regression (Degree of 2 & 3) "
   ]
  },
  {
   "cell_type": "code",
   "execution_count": 167,
   "metadata": {},
   "outputs": [],
   "source": [
    "# Perform one-hot encoding on the categorical variable 'X2'\n",
    "data = pd.get_dummies(data, columns=['X2'], drop_first=True)\n",
    "\n",
    "# Extract the predictor variables (X1, X3, and their polynomial terms)\n",
    "X = data[['X1', 'X3']]\n",
    "poly = PolynomialFeatures(degree=3, include_bias=False)  # Include only up to cubic terms\n",
    "X_poly = poly.fit_transform(X)\n"
   ]
  },
  {
   "cell_type": "code",
   "execution_count": 168,
   "metadata": {},
   "outputs": [],
   "source": [
    "\n",
    "# Combine the polynomial features with the one-hot encoded 'X2'\n",
    "X_poly_data = pd.DataFrame(X_poly, columns=poly.get_feature_names_out(X.columns))\n",
    "X_all = pd.concat([X_poly_data, data.drop(['X1', 'X3', 'Y' , 'HERBS'], axis=1)], axis=1)\n",
    "\n",
    "# Target variable\n",
    "y = data['Y']\n",
    "\n",
    "# Split the data (training and testing sets)\n",
    "X_train, X_test, y_train, y_test = train_test_split(X_all, y, test_size=0.2, random_state=42)\n",
    "\n"
   ]
  },
  {
   "cell_type": "code",
   "execution_count": 169,
   "metadata": {},
   "outputs": [
    {
     "name": "stdout",
     "output_type": "stream",
     "text": [
      "R-squared: 0.2662665366223519\n",
      "Mean Squared Error: 3082.654820224532\n"
     ]
    }
   ],
   "source": [
    "# Create a linear regression model and fit it to the training data\n",
    "model = LinearRegression()\n",
    "model.fit(X_train, y_train)\n",
    "\n",
    "# Predict the target variable on the test set\n",
    "y_pred = model.predict(X_test)\n",
    "\n",
    "# Evaluate the model\n",
    "r2 = r2_score(y_test, y_pred)\n",
    "mse = mean_squared_error(y_test, y_pred)\n",
    "\n",
    "print(f\"R-squared: {r2}\")\n",
    "print(f\"Mean Squared Error: {mse}\")\n"
   ]
  },
  {
   "cell_type": "code",
   "execution_count": 170,
   "metadata": {},
   "outputs": [
    {
     "name": "stdout",
     "output_type": "stream",
     "text": [
      "-230.31678461026206\n",
      "   Variable    Coefficient\n",
      "0        X1     249.170519\n",
      "1        X3    7854.464558\n",
      "2      X1^2     -38.952640\n",
      "3     X1 X3   -4821.823795\n",
      "4      X3^2  -52880.465288\n",
      "5      X1^3       0.772464\n",
      "6   X1^2 X3     506.473843\n",
      "7   X1 X3^2   15888.625041\n",
      "8      X3^3  126562.520052\n",
      "9      X2_K     -55.366888\n",
      "10     X2_L       3.194146\n",
      "11     X2_P     -27.194349\n",
      "12     X2_S      19.956320\n"
     ]
    }
   ],
   "source": [
    "# Access the coefficients (parameter estimates) of the model\n",
    "coefficients = model.coef_\n",
    "\n",
    "# Optionally, you can also access the intercept (constant) term\n",
    "intercept = model.intercept_\n",
    "\n",
    "# Create a DataFrame to display the coefficients with their respective variable names\n",
    "# In this case, variable names correspond to the polynomial features\n",
    "variable_names = X_train.columns\n",
    "coefficients_data = pd.DataFrame({'Variable': variable_names, 'Coefficient': coefficients})\n",
    "print(intercept)\n",
    "print(coefficients_data)"
   ]
  },
  {
   "cell_type": "code",
   "execution_count": 171,
   "metadata": {},
   "outputs": [
    {
     "data": {
      "image/png": "[encoded data removed]",
      "text/plain": [
       "<Figure size 640x480 with 1 Axes>"
      ]
     },
     "metadata": {},
     "output_type": "display_data"
    }
   ],
   "source": [
    "# Calculate the residuals (differences between actual and predicted values)\n",
    "residuals = y_test - y_pred\n",
    "\n",
    "# Create a residual plot\n",
    "plt.scatter(y_pred, residuals)\n",
    "plt.axhline(y=0, color='r', linestyle='--')\n",
    "plt.title(\"Residual Plot\")\n",
    "plt.xlabel(\"Predicted Values\")\n",
    "plt.ylabel(\"Residuals\")\n",
    "plt.show()"
   ]
  },
  {
   "cell_type": "code",
   "execution_count": 172,
   "metadata": {},
   "outputs": [
    {
     "name": "stdout",
     "output_type": "stream",
     "text": [
      "                            OLS Regression Results                            \n",
      "==============================================================================\n",
      "Dep. Variable:                      Y   R-squared:                       0.663\n",
      "Model:                            OLS   Adj. R-squared:                  0.593\n",
      "Method:                 Least Squares   F-statistic:                     9.403\n",
      "Date:                Sat, 04 Nov 2023   Prob (F-statistic):           2.37e-10\n",
      "Time:                        15:45:11   Log-Likelihood:                -380.89\n",
      "No. Observations:                  76   AIC:                             789.8\n",
      "Df Residuals:                      62   BIC:                             822.4\n",
      "Df Model:                          13                                         \n",
      "Covariance Type:            nonrobust                                         \n",
      "==============================================================================\n",
      "                 coef    std err          t      P>|t|      [0.025      0.975]\n",
      "------------------------------------------------------------------------------\n",
      "const       -230.3168    154.612     -1.490      0.141    -539.382      78.748\n",
      "X1           249.1705    178.470      1.396      0.168    -107.585     605.926\n",
      "X3          7854.4646   2987.620      2.629      0.011    1882.298    1.38e+04\n",
      "X1^2         -38.9526     62.154     -0.627      0.533    -163.196      85.291\n",
      "X1 X3      -4821.8238   2053.610     -2.348      0.022   -8926.932    -716.715\n",
      "X3^2       -5.288e+04   2.21e+04     -2.396      0.020    -9.7e+04   -8770.797\n",
      "X1^3           0.7725      6.092      0.127      0.900     -11.406      12.951\n",
      "X1^2 X3      506.4738    337.777      1.499      0.139    -168.732    1181.680\n",
      "X1 X3^2     1.589e+04   7130.032      2.228      0.029    1635.895    3.01e+04\n",
      "X3^3        1.266e+05   6.14e+04      2.061      0.043    3827.751    2.49e+05\n",
      "X2_K         -55.3669     16.793     -3.297      0.002     -88.936     -21.798\n",
      "X2_L           3.1941     14.257      0.224      0.823     -25.305      31.693\n",
      "X2_P         -27.1943     17.034     -1.597      0.115     -61.244       6.855\n",
      "X2_S          19.9563     22.147      0.901      0.371     -24.316      64.228\n",
      "==============================================================================\n",
      "Omnibus:                        9.900   Durbin-Watson:                   1.936\n",
      "Prob(Omnibus):                  0.007   Jarque-Bera (JB):               12.354\n",
      "Skew:                           0.579   Prob(JB):                      0.00208\n",
      "Kurtosis:                       4.601   Cond. No.                     2.44e+05\n",
      "==============================================================================\n",
      "\n",
      "Notes:\n",
      "[1] Standard Errors assume that the covariance matrix of the errors is correctly specified.\n",
      "[2] The condition number is large, 2.44e+05. This might indicate that there are\n",
      "strong multicollinearity or other numerical problems.\n"
     ]
    }
   ],
   "source": [
    "import statsmodels.api as sm\n",
    "\n",
    "# Add a constant term (intercept) to the design matrix\n",
    "X_train = sm.add_constant(X_train)\n",
    "\n",
    "# Create an OLS (Ordinary Least Squares) model\n",
    "ols_model = sm.OLS(y_train, X_train)\n",
    "\n",
    "# Fit the OLS model\n",
    "results = ols_model.fit()\n",
    "\n",
    "# Print the summary of the regression results\n",
    "print(results.summary())\n"
   ]
  },
  {
   "attachments": {},
   "cell_type": "markdown",
   "metadata": {},
   "source": [
    "# Refit the model(drop the insignificant terms)"
   ]
  },
  {
   "cell_type": "code",
   "execution_count": 173,
   "metadata": {},
   "outputs": [],
   "source": [
    "data = pd.read_excel('Chinese Herbs.xlsx')"
   ]
  },
  {
   "cell_type": "code",
   "execution_count": 174,
   "metadata": {},
   "outputs": [],
   "source": [
    "# Assuming 'data' is your DataFrame\n",
    "data['X1*X3'] = data['X1'] * data['X3']\n",
    "data['X3^3'] = data['X3'] ** 3\n",
    "data['X1*X3^2'] = data['X1'] * (data['X3'] ** 2)\n"
   ]
  },
  {
   "cell_type": "code",
   "execution_count": 175,
   "metadata": {},
   "outputs": [],
   "source": [
    "\n",
    "from sklearn.linear_model import LinearRegression\n",
    "\n",
    "# Prepare the feature matrix (X) with the selected variables\n",
    "X_new = data[['X3', 'X1*X3', 'X3^3', 'X1*X3^2']].join(pd.get_dummies(data['X2'], drop_first=True))\n",
    "\n",
    "# Target variable (Y)\n",
    "y = data['Y']\n",
    "\n",
    "# Split the data (training and testing sets)\n",
    "X_train, X_test, y_train, y_test = train_test_split(X_new, y, test_size=0.2, random_state=42)\n",
    "\n"
   ]
  },
  {
   "cell_type": "code",
   "execution_count": 176,
   "metadata": {},
   "outputs": [
    {
     "name": "stdout",
     "output_type": "stream",
     "text": [
      "R-squared: 0.29177475145273346\n",
      "Mean Squared Error: 2975.4864473385232\n"
     ]
    }
   ],
   "source": [
    "# Create a linear regression model and fit it to the training data\n",
    "model = LinearRegression()\n",
    "model.fit(X_train, y_train)\n",
    "\n",
    "# Predict the target variable on the test set\n",
    "y_pred = model.predict(X_test)\n",
    "\n",
    "# Evaluate the model\n",
    "r2 = r2_score(y_test, y_pred)\n",
    "mse = mean_squared_error(y_test, y_pred)\n",
    "\n",
    "print(f\"R-squared: {r2}\")\n",
    "print(f\"Mean Squared Error: {mse}\")"
   ]
  },
  {
   "cell_type": "code",
   "execution_count": 177,
   "metadata": {},
   "outputs": [
    {
     "name": "stdout",
     "output_type": "stream",
     "text": [
      "88.4700426703732\n",
      "  Variable   Coefficient\n",
      "0       X3    196.012873\n",
      "1    X1*X3   -280.112782\n",
      "2     X3^3  12533.182611\n",
      "3  X1*X3^2    432.132627\n",
      "4        K    -58.897045\n",
      "5        L      2.185703\n",
      "6        P    -36.262989\n",
      "7        S     28.193917\n"
     ]
    }
   ],
   "source": [
    "# Access the coefficients (parameter estimates) of the model\n",
    "coefficients = model.coef_\n",
    "\n",
    "# Optionally, you can also access the intercept (constant) term\n",
    "intercept = model.intercept_\n",
    "\n",
    "# Create a DataFrame to display the coefficients with their respective variable names\n",
    "# In this case, variable names correspond to the polynomial features\n",
    "variable_names = X_train.columns\n",
    "coefficients_data = pd.DataFrame({'Variable': variable_names, 'Coefficient': coefficients})\n",
    "print(intercept)\n",
    "print(coefficients_data)"
   ]
  },
  {
   "cell_type": "code",
   "execution_count": null,
   "metadata": {},
   "outputs": [],
   "source": []
  }
 ],
 "metadata": {
  "kernelspec": {
   "display_name": "base",
   "language": "python",
   "name": "python3"
  },
  "language_info": {
   "codemirror_mode": {
    "name": "ipython",
    "version": 3
   },
   "file_extension": ".py",
   "mimetype": "text/x-python",
   "name": "python",
   "nbconvert_exporter": "python",
   "pygments_lexer": "ipython3",
   "version": "3.9.13"
  },
  "orig_nbformat": 4
 },
 "nbformat": 4,
 "nbformat_minor": 2
}
